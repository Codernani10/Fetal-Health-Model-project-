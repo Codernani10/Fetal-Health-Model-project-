{
 "cells": [
  {
   "cell_type": "markdown",
   "metadata": {},
   "source": [
    " python libraries"
   ]
  },
  {
   "cell_type": "code",
   "execution_count": 1,
   "metadata": {},
   "outputs": [],
   "source": [
    "import pandas as pd                   \n",
    "import numpy as np\n",
    "import matplotlib.pyplot as plt"
   ]
  },
  {
   "cell_type": "markdown",
   "metadata": {},
   "source": [
    "Load and check the data"
   ]
  },
  {
   "cell_type": "code",
   "execution_count": 7,
   "metadata": {},
   "outputs": [],
   "source": [
    "df=pd.read_csv(\"C:\\\\Users\\\\naresh\\\\OneDrive\\\\Desktop\\\\MODEL TUNING\\\\data_set\\\\fetal_health.csv\")"
   ]
  },
  {
   "cell_type": "code",
   "execution_count": 8,
   "metadata": {},
   "outputs": [
    {
     "data": {
      "text/html": [
       "<div>\n",
       "<style scoped>\n",
       "    .dataframe tbody tr th:only-of-type {\n",
       "        vertical-align: middle;\n",
       "    }\n",
       "\n",
       "    .dataframe tbody tr th {\n",
       "        vertical-align: top;\n",
       "    }\n",
       "\n",
       "    .dataframe thead th {\n",
       "        text-align: right;\n",
       "    }\n",
       "</style>\n",
       "<table border=\"1\" class=\"dataframe\">\n",
       "  <thead>\n",
       "    <tr style=\"text-align: right;\">\n",
       "      <th></th>\n",
       "      <th>baseline value</th>\n",
       "      <th>accelerations</th>\n",
       "      <th>fetal_movement</th>\n",
       "      <th>uterine_contractions</th>\n",
       "      <th>light_decelerations</th>\n",
       "      <th>severe_decelerations</th>\n",
       "      <th>prolongued_decelerations</th>\n",
       "      <th>abnormal_short_term_variability</th>\n",
       "      <th>mean_value_of_short_term_variability</th>\n",
       "      <th>percentage_of_time_with_abnormal_long_term_variability</th>\n",
       "      <th>...</th>\n",
       "      <th>histogram_min</th>\n",
       "      <th>histogram_max</th>\n",
       "      <th>histogram_number_of_peaks</th>\n",
       "      <th>histogram_number_of_zeroes</th>\n",
       "      <th>histogram_mode</th>\n",
       "      <th>histogram_mean</th>\n",
       "      <th>histogram_median</th>\n",
       "      <th>histogram_variance</th>\n",
       "      <th>histogram_tendency</th>\n",
       "      <th>fetal_health</th>\n",
       "    </tr>\n",
       "  </thead>\n",
       "  <tbody>\n",
       "    <tr>\n",
       "      <th>0</th>\n",
       "      <td>120.0</td>\n",
       "      <td>0.000</td>\n",
       "      <td>0.000</td>\n",
       "      <td>0.000</td>\n",
       "      <td>0.000</td>\n",
       "      <td>0.0</td>\n",
       "      <td>0.0</td>\n",
       "      <td>73.0</td>\n",
       "      <td>0.5</td>\n",
       "      <td>43.0</td>\n",
       "      <td>...</td>\n",
       "      <td>62.0</td>\n",
       "      <td>126.0</td>\n",
       "      <td>2.0</td>\n",
       "      <td>0.0</td>\n",
       "      <td>120.0</td>\n",
       "      <td>137.0</td>\n",
       "      <td>121.0</td>\n",
       "      <td>73.0</td>\n",
       "      <td>1.0</td>\n",
       "      <td>2.0</td>\n",
       "    </tr>\n",
       "    <tr>\n",
       "      <th>1</th>\n",
       "      <td>132.0</td>\n",
       "      <td>0.006</td>\n",
       "      <td>0.000</td>\n",
       "      <td>0.006</td>\n",
       "      <td>0.003</td>\n",
       "      <td>0.0</td>\n",
       "      <td>0.0</td>\n",
       "      <td>17.0</td>\n",
       "      <td>2.1</td>\n",
       "      <td>0.0</td>\n",
       "      <td>...</td>\n",
       "      <td>68.0</td>\n",
       "      <td>198.0</td>\n",
       "      <td>6.0</td>\n",
       "      <td>1.0</td>\n",
       "      <td>141.0</td>\n",
       "      <td>136.0</td>\n",
       "      <td>140.0</td>\n",
       "      <td>12.0</td>\n",
       "      <td>0.0</td>\n",
       "      <td>1.0</td>\n",
       "    </tr>\n",
       "    <tr>\n",
       "      <th>2</th>\n",
       "      <td>133.0</td>\n",
       "      <td>0.003</td>\n",
       "      <td>0.000</td>\n",
       "      <td>0.008</td>\n",
       "      <td>0.003</td>\n",
       "      <td>0.0</td>\n",
       "      <td>0.0</td>\n",
       "      <td>16.0</td>\n",
       "      <td>2.1</td>\n",
       "      <td>0.0</td>\n",
       "      <td>...</td>\n",
       "      <td>68.0</td>\n",
       "      <td>198.0</td>\n",
       "      <td>5.0</td>\n",
       "      <td>1.0</td>\n",
       "      <td>141.0</td>\n",
       "      <td>135.0</td>\n",
       "      <td>138.0</td>\n",
       "      <td>13.0</td>\n",
       "      <td>0.0</td>\n",
       "      <td>1.0</td>\n",
       "    </tr>\n",
       "    <tr>\n",
       "      <th>3</th>\n",
       "      <td>134.0</td>\n",
       "      <td>0.003</td>\n",
       "      <td>0.000</td>\n",
       "      <td>0.008</td>\n",
       "      <td>0.003</td>\n",
       "      <td>0.0</td>\n",
       "      <td>0.0</td>\n",
       "      <td>16.0</td>\n",
       "      <td>2.4</td>\n",
       "      <td>0.0</td>\n",
       "      <td>...</td>\n",
       "      <td>53.0</td>\n",
       "      <td>170.0</td>\n",
       "      <td>11.0</td>\n",
       "      <td>0.0</td>\n",
       "      <td>137.0</td>\n",
       "      <td>134.0</td>\n",
       "      <td>137.0</td>\n",
       "      <td>13.0</td>\n",
       "      <td>1.0</td>\n",
       "      <td>1.0</td>\n",
       "    </tr>\n",
       "    <tr>\n",
       "      <th>4</th>\n",
       "      <td>132.0</td>\n",
       "      <td>0.007</td>\n",
       "      <td>0.000</td>\n",
       "      <td>0.008</td>\n",
       "      <td>0.000</td>\n",
       "      <td>0.0</td>\n",
       "      <td>0.0</td>\n",
       "      <td>16.0</td>\n",
       "      <td>2.4</td>\n",
       "      <td>0.0</td>\n",
       "      <td>...</td>\n",
       "      <td>53.0</td>\n",
       "      <td>170.0</td>\n",
       "      <td>9.0</td>\n",
       "      <td>0.0</td>\n",
       "      <td>137.0</td>\n",
       "      <td>136.0</td>\n",
       "      <td>138.0</td>\n",
       "      <td>11.0</td>\n",
       "      <td>1.0</td>\n",
       "      <td>1.0</td>\n",
       "    </tr>\n",
       "    <tr>\n",
       "      <th>...</th>\n",
       "      <td>...</td>\n",
       "      <td>...</td>\n",
       "      <td>...</td>\n",
       "      <td>...</td>\n",
       "      <td>...</td>\n",
       "      <td>...</td>\n",
       "      <td>...</td>\n",
       "      <td>...</td>\n",
       "      <td>...</td>\n",
       "      <td>...</td>\n",
       "      <td>...</td>\n",
       "      <td>...</td>\n",
       "      <td>...</td>\n",
       "      <td>...</td>\n",
       "      <td>...</td>\n",
       "      <td>...</td>\n",
       "      <td>...</td>\n",
       "      <td>...</td>\n",
       "      <td>...</td>\n",
       "      <td>...</td>\n",
       "      <td>...</td>\n",
       "    </tr>\n",
       "    <tr>\n",
       "      <th>2121</th>\n",
       "      <td>140.0</td>\n",
       "      <td>0.000</td>\n",
       "      <td>0.000</td>\n",
       "      <td>0.007</td>\n",
       "      <td>0.000</td>\n",
       "      <td>0.0</td>\n",
       "      <td>0.0</td>\n",
       "      <td>79.0</td>\n",
       "      <td>0.2</td>\n",
       "      <td>25.0</td>\n",
       "      <td>...</td>\n",
       "      <td>137.0</td>\n",
       "      <td>177.0</td>\n",
       "      <td>4.0</td>\n",
       "      <td>0.0</td>\n",
       "      <td>153.0</td>\n",
       "      <td>150.0</td>\n",
       "      <td>152.0</td>\n",
       "      <td>2.0</td>\n",
       "      <td>0.0</td>\n",
       "      <td>2.0</td>\n",
       "    </tr>\n",
       "    <tr>\n",
       "      <th>2122</th>\n",
       "      <td>140.0</td>\n",
       "      <td>0.001</td>\n",
       "      <td>0.000</td>\n",
       "      <td>0.007</td>\n",
       "      <td>0.000</td>\n",
       "      <td>0.0</td>\n",
       "      <td>0.0</td>\n",
       "      <td>78.0</td>\n",
       "      <td>0.4</td>\n",
       "      <td>22.0</td>\n",
       "      <td>...</td>\n",
       "      <td>103.0</td>\n",
       "      <td>169.0</td>\n",
       "      <td>6.0</td>\n",
       "      <td>0.0</td>\n",
       "      <td>152.0</td>\n",
       "      <td>148.0</td>\n",
       "      <td>151.0</td>\n",
       "      <td>3.0</td>\n",
       "      <td>1.0</td>\n",
       "      <td>2.0</td>\n",
       "    </tr>\n",
       "    <tr>\n",
       "      <th>2123</th>\n",
       "      <td>140.0</td>\n",
       "      <td>0.001</td>\n",
       "      <td>0.000</td>\n",
       "      <td>0.007</td>\n",
       "      <td>0.000</td>\n",
       "      <td>0.0</td>\n",
       "      <td>0.0</td>\n",
       "      <td>79.0</td>\n",
       "      <td>0.4</td>\n",
       "      <td>20.0</td>\n",
       "      <td>...</td>\n",
       "      <td>103.0</td>\n",
       "      <td>170.0</td>\n",
       "      <td>5.0</td>\n",
       "      <td>0.0</td>\n",
       "      <td>153.0</td>\n",
       "      <td>148.0</td>\n",
       "      <td>152.0</td>\n",
       "      <td>4.0</td>\n",
       "      <td>1.0</td>\n",
       "      <td>2.0</td>\n",
       "    </tr>\n",
       "    <tr>\n",
       "      <th>2124</th>\n",
       "      <td>140.0</td>\n",
       "      <td>0.001</td>\n",
       "      <td>0.000</td>\n",
       "      <td>0.006</td>\n",
       "      <td>0.000</td>\n",
       "      <td>0.0</td>\n",
       "      <td>0.0</td>\n",
       "      <td>78.0</td>\n",
       "      <td>0.4</td>\n",
       "      <td>27.0</td>\n",
       "      <td>...</td>\n",
       "      <td>103.0</td>\n",
       "      <td>169.0</td>\n",
       "      <td>6.0</td>\n",
       "      <td>0.0</td>\n",
       "      <td>152.0</td>\n",
       "      <td>147.0</td>\n",
       "      <td>151.0</td>\n",
       "      <td>4.0</td>\n",
       "      <td>1.0</td>\n",
       "      <td>2.0</td>\n",
       "    </tr>\n",
       "    <tr>\n",
       "      <th>2125</th>\n",
       "      <td>142.0</td>\n",
       "      <td>0.002</td>\n",
       "      <td>0.002</td>\n",
       "      <td>0.008</td>\n",
       "      <td>0.000</td>\n",
       "      <td>0.0</td>\n",
       "      <td>0.0</td>\n",
       "      <td>74.0</td>\n",
       "      <td>0.4</td>\n",
       "      <td>36.0</td>\n",
       "      <td>...</td>\n",
       "      <td>117.0</td>\n",
       "      <td>159.0</td>\n",
       "      <td>2.0</td>\n",
       "      <td>1.0</td>\n",
       "      <td>145.0</td>\n",
       "      <td>143.0</td>\n",
       "      <td>145.0</td>\n",
       "      <td>1.0</td>\n",
       "      <td>0.0</td>\n",
       "      <td>1.0</td>\n",
       "    </tr>\n",
       "  </tbody>\n",
       "</table>\n",
       "<p>2126 rows × 22 columns</p>\n",
       "</div>"
      ],
      "text/plain": [
       "      baseline value  accelerations  fetal_movement  uterine_contractions  \\\n",
       "0              120.0          0.000           0.000                 0.000   \n",
       "1              132.0          0.006           0.000                 0.006   \n",
       "2              133.0          0.003           0.000                 0.008   \n",
       "3              134.0          0.003           0.000                 0.008   \n",
       "4              132.0          0.007           0.000                 0.008   \n",
       "...              ...            ...             ...                   ...   \n",
       "2121           140.0          0.000           0.000                 0.007   \n",
       "2122           140.0          0.001           0.000                 0.007   \n",
       "2123           140.0          0.001           0.000                 0.007   \n",
       "2124           140.0          0.001           0.000                 0.006   \n",
       "2125           142.0          0.002           0.002                 0.008   \n",
       "\n",
       "      light_decelerations  severe_decelerations  prolongued_decelerations  \\\n",
       "0                   0.000                   0.0                       0.0   \n",
       "1                   0.003                   0.0                       0.0   \n",
       "2                   0.003                   0.0                       0.0   \n",
       "3                   0.003                   0.0                       0.0   \n",
       "4                   0.000                   0.0                       0.0   \n",
       "...                   ...                   ...                       ...   \n",
       "2121                0.000                   0.0                       0.0   \n",
       "2122                0.000                   0.0                       0.0   \n",
       "2123                0.000                   0.0                       0.0   \n",
       "2124                0.000                   0.0                       0.0   \n",
       "2125                0.000                   0.0                       0.0   \n",
       "\n",
       "      abnormal_short_term_variability  mean_value_of_short_term_variability  \\\n",
       "0                                73.0                                   0.5   \n",
       "1                                17.0                                   2.1   \n",
       "2                                16.0                                   2.1   \n",
       "3                                16.0                                   2.4   \n",
       "4                                16.0                                   2.4   \n",
       "...                               ...                                   ...   \n",
       "2121                             79.0                                   0.2   \n",
       "2122                             78.0                                   0.4   \n",
       "2123                             79.0                                   0.4   \n",
       "2124                             78.0                                   0.4   \n",
       "2125                             74.0                                   0.4   \n",
       "\n",
       "      percentage_of_time_with_abnormal_long_term_variability  ...  \\\n",
       "0                                                  43.0       ...   \n",
       "1                                                   0.0       ...   \n",
       "2                                                   0.0       ...   \n",
       "3                                                   0.0       ...   \n",
       "4                                                   0.0       ...   \n",
       "...                                                 ...       ...   \n",
       "2121                                               25.0       ...   \n",
       "2122                                               22.0       ...   \n",
       "2123                                               20.0       ...   \n",
       "2124                                               27.0       ...   \n",
       "2125                                               36.0       ...   \n",
       "\n",
       "      histogram_min  histogram_max  histogram_number_of_peaks  \\\n",
       "0              62.0          126.0                        2.0   \n",
       "1              68.0          198.0                        6.0   \n",
       "2              68.0          198.0                        5.0   \n",
       "3              53.0          170.0                       11.0   \n",
       "4              53.0          170.0                        9.0   \n",
       "...             ...            ...                        ...   \n",
       "2121          137.0          177.0                        4.0   \n",
       "2122          103.0          169.0                        6.0   \n",
       "2123          103.0          170.0                        5.0   \n",
       "2124          103.0          169.0                        6.0   \n",
       "2125          117.0          159.0                        2.0   \n",
       "\n",
       "      histogram_number_of_zeroes  histogram_mode  histogram_mean  \\\n",
       "0                            0.0           120.0           137.0   \n",
       "1                            1.0           141.0           136.0   \n",
       "2                            1.0           141.0           135.0   \n",
       "3                            0.0           137.0           134.0   \n",
       "4                            0.0           137.0           136.0   \n",
       "...                          ...             ...             ...   \n",
       "2121                         0.0           153.0           150.0   \n",
       "2122                         0.0           152.0           148.0   \n",
       "2123                         0.0           153.0           148.0   \n",
       "2124                         0.0           152.0           147.0   \n",
       "2125                         1.0           145.0           143.0   \n",
       "\n",
       "      histogram_median  histogram_variance  histogram_tendency  fetal_health  \n",
       "0                121.0                73.0                 1.0           2.0  \n",
       "1                140.0                12.0                 0.0           1.0  \n",
       "2                138.0                13.0                 0.0           1.0  \n",
       "3                137.0                13.0                 1.0           1.0  \n",
       "4                138.0                11.0                 1.0           1.0  \n",
       "...                ...                 ...                 ...           ...  \n",
       "2121             152.0                 2.0                 0.0           2.0  \n",
       "2122             151.0                 3.0                 1.0           2.0  \n",
       "2123             152.0                 4.0                 1.0           2.0  \n",
       "2124             151.0                 4.0                 1.0           2.0  \n",
       "2125             145.0                 1.0                 0.0           1.0  \n",
       "\n",
       "[2126 rows x 22 columns]"
      ]
     },
     "execution_count": 8,
     "metadata": {},
     "output_type": "execute_result"
    }
   ],
   "source": [
    "df"
   ]
  },
  {
   "cell_type": "code",
   "execution_count": 9,
   "metadata": {},
   "outputs": [
    {
     "data": {
      "text/plain": [
       "baseline value                                            float64\n",
       "accelerations                                             float64\n",
       "fetal_movement                                            float64\n",
       "uterine_contractions                                      float64\n",
       "light_decelerations                                       float64\n",
       "severe_decelerations                                      float64\n",
       "prolongued_decelerations                                  float64\n",
       "abnormal_short_term_variability                           float64\n",
       "mean_value_of_short_term_variability                      float64\n",
       "percentage_of_time_with_abnormal_long_term_variability    float64\n",
       "mean_value_of_long_term_variability                       float64\n",
       "histogram_width                                           float64\n",
       "histogram_min                                             float64\n",
       "histogram_max                                             float64\n",
       "histogram_number_of_peaks                                 float64\n",
       "histogram_number_of_zeroes                                float64\n",
       "histogram_mode                                            float64\n",
       "histogram_mean                                            float64\n",
       "histogram_median                                          float64\n",
       "histogram_variance                                        float64\n",
       "histogram_tendency                                        float64\n",
       "fetal_health                                              float64\n",
       "dtype: object"
      ]
     },
     "execution_count": 9,
     "metadata": {},
     "output_type": "execute_result"
    }
   ],
   "source": [
    "df.dtypes"
   ]
  },
  {
   "cell_type": "code",
   "execution_count": 10,
   "metadata": {},
   "outputs": [
    {
     "name": "stdout",
     "output_type": "stream",
     "text": [
      "<class 'pandas.core.frame.DataFrame'>\n",
      "RangeIndex: 2126 entries, 0 to 2125\n",
      "Data columns (total 22 columns):\n",
      " #   Column                                                  Non-Null Count  Dtype  \n",
      "---  ------                                                  --------------  -----  \n",
      " 0   baseline value                                          2126 non-null   float64\n",
      " 1   accelerations                                           2126 non-null   float64\n",
      " 2   fetal_movement                                          2126 non-null   float64\n",
      " 3   uterine_contractions                                    2126 non-null   float64\n",
      " 4   light_decelerations                                     2126 non-null   float64\n",
      " 5   severe_decelerations                                    2126 non-null   float64\n",
      " 6   prolongued_decelerations                                2126 non-null   float64\n",
      " 7   abnormal_short_term_variability                         2126 non-null   float64\n",
      " 8   mean_value_of_short_term_variability                    2126 non-null   float64\n",
      " 9   percentage_of_time_with_abnormal_long_term_variability  2126 non-null   float64\n",
      " 10  mean_value_of_long_term_variability                     2126 non-null   float64\n",
      " 11  histogram_width                                         2126 non-null   float64\n",
      " 12  histogram_min                                           2126 non-null   float64\n",
      " 13  histogram_max                                           2126 non-null   float64\n",
      " 14  histogram_number_of_peaks                               2126 non-null   float64\n",
      " 15  histogram_number_of_zeroes                              2126 non-null   float64\n",
      " 16  histogram_mode                                          2126 non-null   float64\n",
      " 17  histogram_mean                                          2126 non-null   float64\n",
      " 18  histogram_median                                        2126 non-null   float64\n",
      " 19  histogram_variance                                      2126 non-null   float64\n",
      " 20  histogram_tendency                                      2126 non-null   float64\n",
      " 21  fetal_health                                            2126 non-null   float64\n",
      "dtypes: float64(22)\n",
      "memory usage: 365.5 KB\n"
     ]
    }
   ],
   "source": [
    "df.info()"
   ]
  },
  {
   "cell_type": "code",
   "execution_count": 11,
   "metadata": {},
   "outputs": [
    {
     "data": {
      "text/html": [
       "<div>\n",
       "<style scoped>\n",
       "    .dataframe tbody tr th:only-of-type {\n",
       "        vertical-align: middle;\n",
       "    }\n",
       "\n",
       "    .dataframe tbody tr th {\n",
       "        vertical-align: top;\n",
       "    }\n",
       "\n",
       "    .dataframe thead th {\n",
       "        text-align: right;\n",
       "    }\n",
       "</style>\n",
       "<table border=\"1\" class=\"dataframe\">\n",
       "  <thead>\n",
       "    <tr style=\"text-align: right;\">\n",
       "      <th></th>\n",
       "      <th>baseline value</th>\n",
       "      <th>accelerations</th>\n",
       "      <th>fetal_movement</th>\n",
       "      <th>uterine_contractions</th>\n",
       "      <th>light_decelerations</th>\n",
       "      <th>severe_decelerations</th>\n",
       "      <th>prolongued_decelerations</th>\n",
       "      <th>abnormal_short_term_variability</th>\n",
       "      <th>mean_value_of_short_term_variability</th>\n",
       "      <th>percentage_of_time_with_abnormal_long_term_variability</th>\n",
       "      <th>...</th>\n",
       "      <th>histogram_min</th>\n",
       "      <th>histogram_max</th>\n",
       "      <th>histogram_number_of_peaks</th>\n",
       "      <th>histogram_number_of_zeroes</th>\n",
       "      <th>histogram_mode</th>\n",
       "      <th>histogram_mean</th>\n",
       "      <th>histogram_median</th>\n",
       "      <th>histogram_variance</th>\n",
       "      <th>histogram_tendency</th>\n",
       "      <th>fetal_health</th>\n",
       "    </tr>\n",
       "  </thead>\n",
       "  <tbody>\n",
       "    <tr>\n",
       "      <th>count</th>\n",
       "      <td>2126.000000</td>\n",
       "      <td>2126.000000</td>\n",
       "      <td>2126.000000</td>\n",
       "      <td>2126.000000</td>\n",
       "      <td>2126.000000</td>\n",
       "      <td>2126.000000</td>\n",
       "      <td>2126.000000</td>\n",
       "      <td>2126.000000</td>\n",
       "      <td>2126.000000</td>\n",
       "      <td>2126.00000</td>\n",
       "      <td>...</td>\n",
       "      <td>2126.000000</td>\n",
       "      <td>2126.000000</td>\n",
       "      <td>2126.000000</td>\n",
       "      <td>2126.000000</td>\n",
       "      <td>2126.000000</td>\n",
       "      <td>2126.000000</td>\n",
       "      <td>2126.000000</td>\n",
       "      <td>2126.000000</td>\n",
       "      <td>2126.000000</td>\n",
       "      <td>2126.000000</td>\n",
       "    </tr>\n",
       "    <tr>\n",
       "      <th>mean</th>\n",
       "      <td>133.303857</td>\n",
       "      <td>0.003178</td>\n",
       "      <td>0.009481</td>\n",
       "      <td>0.004366</td>\n",
       "      <td>0.001889</td>\n",
       "      <td>0.000003</td>\n",
       "      <td>0.000159</td>\n",
       "      <td>46.990122</td>\n",
       "      <td>1.332785</td>\n",
       "      <td>9.84666</td>\n",
       "      <td>...</td>\n",
       "      <td>93.579492</td>\n",
       "      <td>164.025400</td>\n",
       "      <td>4.068203</td>\n",
       "      <td>0.323612</td>\n",
       "      <td>137.452023</td>\n",
       "      <td>134.610536</td>\n",
       "      <td>138.090310</td>\n",
       "      <td>18.808090</td>\n",
       "      <td>0.320320</td>\n",
       "      <td>1.304327</td>\n",
       "    </tr>\n",
       "    <tr>\n",
       "      <th>std</th>\n",
       "      <td>9.840844</td>\n",
       "      <td>0.003866</td>\n",
       "      <td>0.046666</td>\n",
       "      <td>0.002946</td>\n",
       "      <td>0.002960</td>\n",
       "      <td>0.000057</td>\n",
       "      <td>0.000590</td>\n",
       "      <td>17.192814</td>\n",
       "      <td>0.883241</td>\n",
       "      <td>18.39688</td>\n",
       "      <td>...</td>\n",
       "      <td>29.560212</td>\n",
       "      <td>17.944183</td>\n",
       "      <td>2.949386</td>\n",
       "      <td>0.706059</td>\n",
       "      <td>16.381289</td>\n",
       "      <td>15.593596</td>\n",
       "      <td>14.466589</td>\n",
       "      <td>28.977636</td>\n",
       "      <td>0.610829</td>\n",
       "      <td>0.614377</td>\n",
       "    </tr>\n",
       "    <tr>\n",
       "      <th>min</th>\n",
       "      <td>106.000000</td>\n",
       "      <td>0.000000</td>\n",
       "      <td>0.000000</td>\n",
       "      <td>0.000000</td>\n",
       "      <td>0.000000</td>\n",
       "      <td>0.000000</td>\n",
       "      <td>0.000000</td>\n",
       "      <td>12.000000</td>\n",
       "      <td>0.200000</td>\n",
       "      <td>0.00000</td>\n",
       "      <td>...</td>\n",
       "      <td>50.000000</td>\n",
       "      <td>122.000000</td>\n",
       "      <td>0.000000</td>\n",
       "      <td>0.000000</td>\n",
       "      <td>60.000000</td>\n",
       "      <td>73.000000</td>\n",
       "      <td>77.000000</td>\n",
       "      <td>0.000000</td>\n",
       "      <td>-1.000000</td>\n",
       "      <td>1.000000</td>\n",
       "    </tr>\n",
       "    <tr>\n",
       "      <th>25%</th>\n",
       "      <td>126.000000</td>\n",
       "      <td>0.000000</td>\n",
       "      <td>0.000000</td>\n",
       "      <td>0.002000</td>\n",
       "      <td>0.000000</td>\n",
       "      <td>0.000000</td>\n",
       "      <td>0.000000</td>\n",
       "      <td>32.000000</td>\n",
       "      <td>0.700000</td>\n",
       "      <td>0.00000</td>\n",
       "      <td>...</td>\n",
       "      <td>67.000000</td>\n",
       "      <td>152.000000</td>\n",
       "      <td>2.000000</td>\n",
       "      <td>0.000000</td>\n",
       "      <td>129.000000</td>\n",
       "      <td>125.000000</td>\n",
       "      <td>129.000000</td>\n",
       "      <td>2.000000</td>\n",
       "      <td>0.000000</td>\n",
       "      <td>1.000000</td>\n",
       "    </tr>\n",
       "    <tr>\n",
       "      <th>50%</th>\n",
       "      <td>133.000000</td>\n",
       "      <td>0.002000</td>\n",
       "      <td>0.000000</td>\n",
       "      <td>0.004000</td>\n",
       "      <td>0.000000</td>\n",
       "      <td>0.000000</td>\n",
       "      <td>0.000000</td>\n",
       "      <td>49.000000</td>\n",
       "      <td>1.200000</td>\n",
       "      <td>0.00000</td>\n",
       "      <td>...</td>\n",
       "      <td>93.000000</td>\n",
       "      <td>162.000000</td>\n",
       "      <td>3.000000</td>\n",
       "      <td>0.000000</td>\n",
       "      <td>139.000000</td>\n",
       "      <td>136.000000</td>\n",
       "      <td>139.000000</td>\n",
       "      <td>7.000000</td>\n",
       "      <td>0.000000</td>\n",
       "      <td>1.000000</td>\n",
       "    </tr>\n",
       "    <tr>\n",
       "      <th>75%</th>\n",
       "      <td>140.000000</td>\n",
       "      <td>0.006000</td>\n",
       "      <td>0.003000</td>\n",
       "      <td>0.007000</td>\n",
       "      <td>0.003000</td>\n",
       "      <td>0.000000</td>\n",
       "      <td>0.000000</td>\n",
       "      <td>61.000000</td>\n",
       "      <td>1.700000</td>\n",
       "      <td>11.00000</td>\n",
       "      <td>...</td>\n",
       "      <td>120.000000</td>\n",
       "      <td>174.000000</td>\n",
       "      <td>6.000000</td>\n",
       "      <td>0.000000</td>\n",
       "      <td>148.000000</td>\n",
       "      <td>145.000000</td>\n",
       "      <td>148.000000</td>\n",
       "      <td>24.000000</td>\n",
       "      <td>1.000000</td>\n",
       "      <td>1.000000</td>\n",
       "    </tr>\n",
       "    <tr>\n",
       "      <th>max</th>\n",
       "      <td>160.000000</td>\n",
       "      <td>0.019000</td>\n",
       "      <td>0.481000</td>\n",
       "      <td>0.015000</td>\n",
       "      <td>0.015000</td>\n",
       "      <td>0.001000</td>\n",
       "      <td>0.005000</td>\n",
       "      <td>87.000000</td>\n",
       "      <td>7.000000</td>\n",
       "      <td>91.00000</td>\n",
       "      <td>...</td>\n",
       "      <td>159.000000</td>\n",
       "      <td>238.000000</td>\n",
       "      <td>18.000000</td>\n",
       "      <td>10.000000</td>\n",
       "      <td>187.000000</td>\n",
       "      <td>182.000000</td>\n",
       "      <td>186.000000</td>\n",
       "      <td>269.000000</td>\n",
       "      <td>1.000000</td>\n",
       "      <td>3.000000</td>\n",
       "    </tr>\n",
       "  </tbody>\n",
       "</table>\n",
       "<p>8 rows × 22 columns</p>\n",
       "</div>"
      ],
      "text/plain": [
       "       baseline value  accelerations  fetal_movement  uterine_contractions  \\\n",
       "count     2126.000000    2126.000000     2126.000000           2126.000000   \n",
       "mean       133.303857       0.003178        0.009481              0.004366   \n",
       "std          9.840844       0.003866        0.046666              0.002946   \n",
       "min        106.000000       0.000000        0.000000              0.000000   \n",
       "25%        126.000000       0.000000        0.000000              0.002000   \n",
       "50%        133.000000       0.002000        0.000000              0.004000   \n",
       "75%        140.000000       0.006000        0.003000              0.007000   \n",
       "max        160.000000       0.019000        0.481000              0.015000   \n",
       "\n",
       "       light_decelerations  severe_decelerations  prolongued_decelerations  \\\n",
       "count          2126.000000           2126.000000               2126.000000   \n",
       "mean              0.001889              0.000003                  0.000159   \n",
       "std               0.002960              0.000057                  0.000590   \n",
       "min               0.000000              0.000000                  0.000000   \n",
       "25%               0.000000              0.000000                  0.000000   \n",
       "50%               0.000000              0.000000                  0.000000   \n",
       "75%               0.003000              0.000000                  0.000000   \n",
       "max               0.015000              0.001000                  0.005000   \n",
       "\n",
       "       abnormal_short_term_variability  mean_value_of_short_term_variability  \\\n",
       "count                      2126.000000                           2126.000000   \n",
       "mean                         46.990122                              1.332785   \n",
       "std                          17.192814                              0.883241   \n",
       "min                          12.000000                              0.200000   \n",
       "25%                          32.000000                              0.700000   \n",
       "50%                          49.000000                              1.200000   \n",
       "75%                          61.000000                              1.700000   \n",
       "max                          87.000000                              7.000000   \n",
       "\n",
       "       percentage_of_time_with_abnormal_long_term_variability  ...  \\\n",
       "count                                         2126.00000       ...   \n",
       "mean                                             9.84666       ...   \n",
       "std                                             18.39688       ...   \n",
       "min                                              0.00000       ...   \n",
       "25%                                              0.00000       ...   \n",
       "50%                                              0.00000       ...   \n",
       "75%                                             11.00000       ...   \n",
       "max                                             91.00000       ...   \n",
       "\n",
       "       histogram_min  histogram_max  histogram_number_of_peaks  \\\n",
       "count    2126.000000    2126.000000                2126.000000   \n",
       "mean       93.579492     164.025400                   4.068203   \n",
       "std        29.560212      17.944183                   2.949386   \n",
       "min        50.000000     122.000000                   0.000000   \n",
       "25%        67.000000     152.000000                   2.000000   \n",
       "50%        93.000000     162.000000                   3.000000   \n",
       "75%       120.000000     174.000000                   6.000000   \n",
       "max       159.000000     238.000000                  18.000000   \n",
       "\n",
       "       histogram_number_of_zeroes  histogram_mode  histogram_mean  \\\n",
       "count                 2126.000000     2126.000000     2126.000000   \n",
       "mean                     0.323612      137.452023      134.610536   \n",
       "std                      0.706059       16.381289       15.593596   \n",
       "min                      0.000000       60.000000       73.000000   \n",
       "25%                      0.000000      129.000000      125.000000   \n",
       "50%                      0.000000      139.000000      136.000000   \n",
       "75%                      0.000000      148.000000      145.000000   \n",
       "max                     10.000000      187.000000      182.000000   \n",
       "\n",
       "       histogram_median  histogram_variance  histogram_tendency  fetal_health  \n",
       "count       2126.000000         2126.000000         2126.000000   2126.000000  \n",
       "mean         138.090310           18.808090            0.320320      1.304327  \n",
       "std           14.466589           28.977636            0.610829      0.614377  \n",
       "min           77.000000            0.000000           -1.000000      1.000000  \n",
       "25%          129.000000            2.000000            0.000000      1.000000  \n",
       "50%          139.000000            7.000000            0.000000      1.000000  \n",
       "75%          148.000000           24.000000            1.000000      1.000000  \n",
       "max          186.000000          269.000000            1.000000      3.000000  \n",
       "\n",
       "[8 rows x 22 columns]"
      ]
     },
     "execution_count": 11,
     "metadata": {},
     "output_type": "execute_result"
    }
   ],
   "source": [
    "df.describe()"
   ]
  },
  {
   "cell_type": "markdown",
   "metadata": {},
   "source": [
    "Preprocessing the data"
   ]
  },
  {
   "cell_type": "code",
   "execution_count": 12,
   "metadata": {},
   "outputs": [
    {
     "data": {
      "text/plain": [
       "baseline value                                            0\n",
       "accelerations                                             0\n",
       "fetal_movement                                            0\n",
       "uterine_contractions                                      0\n",
       "light_decelerations                                       0\n",
       "severe_decelerations                                      0\n",
       "prolongued_decelerations                                  0\n",
       "abnormal_short_term_variability                           0\n",
       "mean_value_of_short_term_variability                      0\n",
       "percentage_of_time_with_abnormal_long_term_variability    0\n",
       "mean_value_of_long_term_variability                       0\n",
       "histogram_width                                           0\n",
       "histogram_min                                             0\n",
       "histogram_max                                             0\n",
       "histogram_number_of_peaks                                 0\n",
       "histogram_number_of_zeroes                                0\n",
       "histogram_mode                                            0\n",
       "histogram_mean                                            0\n",
       "histogram_median                                          0\n",
       "histogram_variance                                        0\n",
       "histogram_tendency                                        0\n",
       "fetal_health                                              0\n",
       "dtype: int64"
      ]
     },
     "execution_count": 12,
     "metadata": {},
     "output_type": "execute_result"
    }
   ],
   "source": [
    "df.isnull().sum()"
   ]
  },
  {
   "cell_type": "code",
   "execution_count": 13,
   "metadata": {},
   "outputs": [
    {
     "data": {
      "text/plain": [
       "(2126, 22)"
      ]
     },
     "execution_count": 13,
     "metadata": {},
     "output_type": "execute_result"
    }
   ],
   "source": [
    "df.shape"
   ]
  },
  {
   "cell_type": "markdown",
   "metadata": {},
   "source": [
    "# Feature selection"
   ]
  },
  {
   "cell_type": "code",
   "execution_count": 14,
   "metadata": {},
   "outputs": [
    {
     "data": {
      "text/plain": [
       "(2126, 21)"
      ]
     },
     "execution_count": 14,
     "metadata": {},
     "output_type": "execute_result"
    }
   ],
   "source": [
    "X=df.iloc[:,:-1]           #   x ===> feature\n",
    "X.shape"
   ]
  },
  {
   "cell_type": "code",
   "execution_count": 15,
   "metadata": {},
   "outputs": [
    {
     "data": {
      "text/plain": [
       "(2126,)"
      ]
     },
     "execution_count": 15,
     "metadata": {},
     "output_type": "execute_result"
    }
   ],
   "source": [
    "y=df.iloc[:,-1]            # y ===>  target\n",
    "y.shape"
   ]
  },
  {
   "cell_type": "markdown",
   "metadata": {},
   "source": [
    "Traing and Testing the data"
   ]
  },
  {
   "cell_type": "code",
   "execution_count": 17,
   "metadata": {},
   "outputs": [],
   "source": [
    "from sklearn.model_selection import train_test_split"
   ]
  },
  {
   "cell_type": "code",
   "execution_count": 18,
   "metadata": {},
   "outputs": [],
   "source": [
    "X_train, X_test, y_train, y_test = train_test_split(X, y, test_size=0.1, random_state=42)"
   ]
  },
  {
   "cell_type": "code",
   "execution_count": 19,
   "metadata": {},
   "outputs": [
    {
     "data": {
      "text/plain": [
       "((1913, 21), (1913,))"
      ]
     },
     "execution_count": 19,
     "metadata": {},
     "output_type": "execute_result"
    }
   ],
   "source": [
    "X_train.shape,y_train.shape"
   ]
  },
  {
   "cell_type": "code",
   "execution_count": 20,
   "metadata": {},
   "outputs": [
    {
     "data": {
      "text/plain": [
       "((213, 21), (213,))"
      ]
     },
     "execution_count": 20,
     "metadata": {},
     "output_type": "execute_result"
    }
   ],
   "source": [
    "X_test.shape,y_test.shape"
   ]
  },
  {
   "cell_type": "markdown",
   "metadata": {},
   "source": [
    "# Model selection"
   ]
  },
  {
   "cell_type": "markdown",
   "metadata": {},
   "source": [
    "Building a ML Model by using Random forest classifier"
   ]
  },
  {
   "cell_type": "code",
   "execution_count": 21,
   "metadata": {},
   "outputs": [],
   "source": [
    "from sklearn.ensemble import RandomForestClassifier\n",
    "from sklearn.metrics import accuracy_score,classification_report"
   ]
  },
  {
   "cell_type": "code",
   "execution_count": 22,
   "metadata": {},
   "outputs": [],
   "source": [
    "model= RandomForestClassifier()"
   ]
  },
  {
   "cell_type": "code",
   "execution_count": 23,
   "metadata": {},
   "outputs": [
    {
     "data": {
      "text/plain": [
       "RandomForestClassifier()"
      ]
     },
     "execution_count": 23,
     "metadata": {},
     "output_type": "execute_result"
    }
   ],
   "source": [
    "model.fit(X_train,y_train)"
   ]
  },
  {
   "cell_type": "code",
   "execution_count": 24,
   "metadata": {},
   "outputs": [
    {
     "data": {
      "text/plain": [
       "0.9483568075117371"
      ]
     },
     "execution_count": 24,
     "metadata": {},
     "output_type": "execute_result"
    }
   ],
   "source": [
    "model.score(X_test,y_test)"
   ]
  },
  {
   "cell_type": "code",
   "execution_count": 26,
   "metadata": {},
   "outputs": [
    {
     "name": "stdout",
     "output_type": "stream",
     "text": [
      "[1. 1. 1. 1. 1. 3. 1. 3. 2. 2. 1. 3. 1. 1. 1. 1. 1. 1. 2. 1. 1. 1. 3. 1.\n",
      " 1. 3. 3. 1. 1. 1. 1. 1. 1. 1. 1. 1. 1. 3. 2. 2. 1. 2. 1. 1. 1. 1. 1. 3.\n",
      " 1. 1. 1. 1. 2. 2. 2. 1. 1. 1. 2. 1. 2. 1. 1. 1. 1. 1. 2. 1. 1. 1. 1. 1.\n",
      " 1. 1. 1. 2. 1. 1. 1. 1. 1. 1. 1. 1. 1. 1. 1. 2. 1. 2. 1. 1. 1. 1. 2. 1.\n",
      " 1. 3. 2. 1. 2. 1. 1. 1. 1. 2. 1. 1. 3. 1. 2. 2. 1. 2. 1. 3. 1. 1. 2. 1.\n",
      " 1. 2. 1. 1. 3. 3. 3. 1. 1. 1. 3. 1. 1. 1. 1. 1. 1. 1. 2. 2. 2. 1. 1. 1.\n",
      " 3. 1. 1. 1. 1. 1. 1. 1. 2. 1. 1. 1. 1. 1. 1. 1. 1. 1. 1. 2. 1. 1. 2. 1.\n",
      " 2. 1. 1. 2. 1. 1. 1. 1. 1. 1. 1. 1. 1. 1. 1. 1. 2. 1. 1. 1. 3. 2. 1. 1.\n",
      " 1. 2. 1. 1. 1. 1. 1. 2. 1. 1. 1. 2. 1. 1. 1. 1. 1. 1. 1. 1. 1.]\n"
     ]
    }
   ],
   "source": [
    "y_pred=model.predict(X_test)\n",
    "print(y_pred)"
   ]
  },
  {
   "cell_type": "code",
   "execution_count": 27,
   "metadata": {},
   "outputs": [
    {
     "name": "stdout",
     "output_type": "stream",
     "text": [
      "              precision    recall  f1-score   support\n",
      "\n",
      "         1.0       0.97      0.97      0.97       159\n",
      "         2.0       0.86      0.84      0.85        37\n",
      "         3.0       0.94      1.00      0.97        17\n",
      "\n",
      "    accuracy                           0.95       213\n",
      "   macro avg       0.92      0.94      0.93       213\n",
      "weighted avg       0.95      0.95      0.95       213\n",
      "\n"
     ]
    }
   ],
   "source": [
    "print(classification_report(y_pred,y_test))"
   ]
  },
  {
   "cell_type": "markdown",
   "metadata": {},
   "source": [
    "# Hyperparametric tuning"
   ]
  },
  {
   "cell_type": "code",
   "execution_count": 28,
   "metadata": {},
   "outputs": [],
   "source": [
    "n_estimators=[int(x) for x in np.linspace(start=10,stop=80,num=10)]\n",
    "max_features=['auto',\"sqrt\"]\n",
    "max_depth=[2,4]\n",
    "min_samples_split=[2,5]\n",
    "min_samples_leaf=[1,2]\n",
    "bootstrap=[True,False]"
   ]
  },
  {
   "cell_type": "code",
   "execution_count": 29,
   "metadata": {},
   "outputs": [
    {
     "name": "stdout",
     "output_type": "stream",
     "text": [
      "{'n_estimators': [10, 17, 25, 33, 41, 48, 56, 64, 72, 80], 'max_features': ['auto', 'sqrt'], 'max_depth': [2, 4], 'min_samples_split': [2, 5], 'min_samples_leaf': [1, 2], 'bootstrap': [True, False]}\n"
     ]
    }
   ],
   "source": [
    "#creat a random grid\n",
    "param_grid = {\"n_estimators\":n_estimators,\n",
    "             'max_features':max_features,\n",
    "             'max_depth':max_depth,\n",
    "             'min_samples_split':min_samples_split,\n",
    "             \"min_samples_leaf\":min_samples_leaf,\n",
    "             \"bootstrap\":bootstrap}\n",
    "print(param_grid)"
   ]
  },
  {
   "cell_type": "markdown",
   "metadata": {},
   "source": [
    "# GridSearchCV"
   ]
  },
  {
   "cell_type": "code",
   "execution_count": 30,
   "metadata": {},
   "outputs": [],
   "source": [
    "from sklearn.model_selection import GridSearchCV"
   ]
  },
  {
   "cell_type": "code",
   "execution_count": 31,
   "metadata": {},
   "outputs": [],
   "source": [
    "model_grid=GridSearchCV(estimator=model,param_grid=param_grid,cv=3,verbose=2,n_jobs=4)"
   ]
  },
  {
   "cell_type": "code",
   "execution_count": 32,
   "metadata": {},
   "outputs": [
    {
     "name": "stdout",
     "output_type": "stream",
     "text": [
      "Fitting 3 folds for each of 320 candidates, totalling 960 fits\n"
     ]
    },
    {
     "data": {
      "text/plain": [
       "GridSearchCV(cv=3, estimator=RandomForestClassifier(), n_jobs=4,\n",
       "             param_grid={'bootstrap': [True, False], 'max_depth': [2, 4],\n",
       "                         'max_features': ['auto', 'sqrt'],\n",
       "                         'min_samples_leaf': [1, 2],\n",
       "                         'min_samples_split': [2, 5],\n",
       "                         'n_estimators': [10, 17, 25, 33, 41, 48, 56, 64, 72,\n",
       "                                          80]},\n",
       "             verbose=2)"
      ]
     },
     "execution_count": 32,
     "metadata": {},
     "output_type": "execute_result"
    }
   ],
   "source": [
    "model_grid.fit(X_train,y_train)"
   ]
  },
  {
   "cell_type": "code",
   "execution_count": 33,
   "metadata": {},
   "outputs": [
    {
     "data": {
      "text/plain": [
       "{'bootstrap': True,\n",
       " 'max_depth': 4,\n",
       " 'max_features': 'sqrt',\n",
       " 'min_samples_leaf': 1,\n",
       " 'min_samples_split': 2,\n",
       " 'n_estimators': 10}"
      ]
     },
     "execution_count": 33,
     "metadata": {},
     "output_type": "execute_result"
    }
   ],
   "source": [
    "model_grid.best_params_"
   ]
  },
  {
   "cell_type": "code",
   "execution_count": 34,
   "metadata": {},
   "outputs": [
    {
     "data": {
      "text/plain": [
       "0.9154929577464789"
      ]
     },
     "execution_count": 34,
     "metadata": {},
     "output_type": "execute_result"
    }
   ],
   "source": [
    "model_grid.score(X_test,y_test)"
   ]
  },
  {
   "cell_type": "code",
   "execution_count": 35,
   "metadata": {},
   "outputs": [
    {
     "data": {
      "text/plain": [
       "0.9189754312598014"
      ]
     },
     "execution_count": 35,
     "metadata": {},
     "output_type": "execute_result"
    }
   ],
   "source": [
    "model_grid.score(X_train,y_train)"
   ]
  },
  {
   "cell_type": "markdown",
   "metadata": {},
   "source": [
    "# RandomizedSearchCV"
   ]
  },
  {
   "cell_type": "code",
   "execution_count": 36,
   "metadata": {},
   "outputs": [],
   "source": [
    "from sklearn.model_selection import RandomizedSearchCV"
   ]
  },
  {
   "cell_type": "code",
   "execution_count": 37,
   "metadata": {},
   "outputs": [],
   "source": [
    "rdcv=RandomizedSearchCV(estimator=model,param_distributions=param_grid,cv=3)"
   ]
  },
  {
   "cell_type": "code",
   "execution_count": 38,
   "metadata": {},
   "outputs": [
    {
     "data": {
      "text/plain": [
       "RandomizedSearchCV(cv=3, estimator=RandomForestClassifier(),\n",
       "                   param_distributions={'bootstrap': [True, False],\n",
       "                                        'max_depth': [2, 4],\n",
       "                                        'max_features': ['auto', 'sqrt'],\n",
       "                                        'min_samples_leaf': [1, 2],\n",
       "                                        'min_samples_split': [2, 5],\n",
       "                                        'n_estimators': [10, 17, 25, 33, 41, 48,\n",
       "                                                         56, 64, 72, 80]})"
      ]
     },
     "execution_count": 38,
     "metadata": {},
     "output_type": "execute_result"
    }
   ],
   "source": [
    "rdcv.fit(X_train,y_train)"
   ]
  },
  {
   "cell_type": "code",
   "execution_count": 39,
   "metadata": {},
   "outputs": [
    {
     "data": {
      "text/plain": [
       "0.9154929577464789"
      ]
     },
     "execution_count": 39,
     "metadata": {},
     "output_type": "execute_result"
    }
   ],
   "source": [
    "rdcv.score(X_test,y_test)"
   ]
  },
  {
   "cell_type": "markdown",
   "metadata": {},
   "source": [
    "# Kfold cross validation"
   ]
  },
  {
   "cell_type": "code",
   "execution_count": 40,
   "metadata": {},
   "outputs": [],
   "source": [
    "from sklearn.model_selection import cross_val_score"
   ]
  },
  {
   "cell_type": "code",
   "execution_count": 41,
   "metadata": {},
   "outputs": [
    {
     "name": "stdout",
     "output_type": "stream",
     "text": [
      "[0.83356841 0.88575458 0.72740113]\n",
      "Avg accuracy : 0.8155747066901474\n"
     ]
    }
   ],
   "source": [
    "score_rf=cross_val_score(RandomForestClassifier(n_estimators=30),X,y,cv=3)\n",
    "print(score_rf)\n",
    "print(\"Avg accuracy :\",np.average(score_rf))"
   ]
  }
 ],
 "metadata": {
  "interpreter": {
   "hash": "633549c87213b78912cd652b6c2fde649a5e74fd1435a59f9e018a8ca53c5818"
  },
  "kernelspec": {
   "display_name": "Python 3.9.7 ('base')",
   "language": "python",
   "name": "python3"
  },
  "language_info": {
   "codemirror_mode": {
    "name": "ipython",
    "version": 3
   },
   "file_extension": ".py",
   "mimetype": "text/x-python",
   "name": "python",
   "nbconvert_exporter": "python",
   "pygments_lexer": "ipython3",
   "version": "3.9.7"
  },
  "orig_nbformat": 4
 },
 "nbformat": 4,
 "nbformat_minor": 2
}
